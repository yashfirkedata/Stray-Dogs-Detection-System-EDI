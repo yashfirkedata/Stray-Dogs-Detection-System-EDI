{
  "cells": [
    {
      "cell_type": "markdown",
      "metadata": {
        "id": "view-in-github",
        "colab_type": "text"
      },
      "source": [
        "<a href=\"https://colab.research.google.com/github/yashfirkedata/Stray-Dogs-Detection-System-EDI/blob/main/Model%20Training/Stray_dogs_detection_system.ipynb\" target=\"_parent\"><img src=\"https://colab.research.google.com/assets/colab-badge.svg\" alt=\"Open In Colab\"/></a>"
      ]
    },
    {
      "cell_type": "markdown",
      "metadata": {
        "id": "hQiR7GrR7v4G"
      },
      "source": [
        "# **Modelling**"
      ]
    },
    {
      "cell_type": "code",
      "execution_count": null,
      "metadata": {
        "colab": {
          "base_uri": "https://localhost:8080/"
        },
        "id": "i7DleNkvpRnR",
        "outputId": "dc652450-7b7a-4751-8dc5-c551ddd5a82e"
      },
      "outputs": [
        {
          "name": "stdout",
          "output_type": "stream",
          "text": [
            "Drive already mounted at /content/drive; to attempt to forcibly remount, call drive.mount(\"/content/drive\", force_remount=True).\n"
          ]
        }
      ],
      "source": [
        "from google.colab import drive\n",
        "drive.mount('/content/drive')"
      ]
    },
    {
      "cell_type": "code",
      "execution_count": null,
      "metadata": {
        "colab": {
          "base_uri": "https://localhost:8080/"
        },
        "id": "zYDOMc96zsXk",
        "outputId": "cd9a7f5e-5ec8-4085-dbd4-4c1e5572be59"
      },
      "outputs": [
        {
          "name": "stdout",
          "output_type": "stream",
          "text": [
            "Archive:  /content/drive/MyDrive/Datasets/EdiDataset.zip\n",
            "replace EdiDataset/content/edidataset/images/testing/10007.jpg? [y]es, [n]o, [A]ll, [N]one, [r]ename: "
          ]
        }
      ],
      "source": [
        "!unzip /content/drive/MyDrive/Datasets/EdiDataset.zip"
      ]
    },
    {
      "cell_type": "code",
      "execution_count": null,
      "metadata": {
        "id": "ngLj5sx-FhAp"
      },
      "outputs": [],
      "source": [
        "!git clone https://github.com/ultralytics/yolov5\n",
        "%cd yolov5\n",
        "%pip install -r requirements.txt"
      ]
    },
    {
      "cell_type": "code",
      "execution_count": null,
      "metadata": {
        "colab": {
          "base_uri": "https://localhost:8080/"
        },
        "id": "52MaMs9mmIMi",
        "outputId": "f5136757-2074-4124-aa9e-24296df14181"
      },
      "outputs": [
        {
          "data": {
            "text/plain": [
              "0"
            ]
          },
          "execution_count": 4,
          "metadata": {},
          "output_type": "execute_result"
        }
      ],
      "source": [
        "import subprocess\n",
        "subprocess.call([\"/content/yolov5/data/scripts/download_weights.sh\"])"
      ]
    },
    {
      "cell_type": "code",
      "execution_count": null,
      "metadata": {
        "id": "dadkc04bdqCt"
      },
      "outputs": [],
      "source": [
        "!wget https://github.com/ultralytics/yolov5/releases/download/v5.0/yolov5s.pt\n"
      ]
    },
    {
      "cell_type": "code",
      "execution_count": null,
      "metadata": {
        "id": "RVV1Lr8-mR1o"
      },
      "outputs": [],
      "source": [
        "!python train.py --img 640 --cfg /content/yolov5/models/yolov5m.yaml --hyp /content/yolov5/data/hyps/hyp.scratch-med.yaml --batch 32 --epochs 20 --data /content/yolov5/data/custom_dataset.yaml --weights  /content/yolov5/yolov5m.pt --workers 24"
      ]
    },
    {
      "cell_type": "code",
      "execution_count": null,
      "metadata": {
        "id": "ZE38jA2dPUP3"
      },
      "outputs": [],
      "source": [
        "!zip /content/exp2 -r /content/yolov5/runs/train/exp2\n"
      ]
    },
    {
      "cell_type": "code",
      "execution_count": null,
      "metadata": {
        "colab": {
          "background_save": true
        },
        "id": "l5Ylm-k2a2HA"
      },
      "outputs": [],
      "source": [
        "!python train.py --img 640 --cfg /content/yolov5/models/yolov5m.yaml --hyp /content/yolov5/data/hyps/hyp.scratch-med.yaml --batch 32 --epochs 20 --data /content/yolov5/data/custom_dataset.yaml --weights  /content/yolov5/runs/train/exp2/weights/best.pt --workers 24"
      ]
    },
    {
      "cell_type": "code",
      "execution_count": null,
      "metadata": {
        "id": "kDI3ER_mYs7Z"
      },
      "outputs": [],
      "source": [
        "!zip /content/exp3 -r /content/yolov5/runs/train/exp3"
      ]
    },
    {
      "cell_type": "code",
      "execution_count": null,
      "metadata": {
        "id": "hITW3DMgtbse"
      },
      "outputs": [],
      "source": [
        "!python train.py --img 640 --cfg /content/yolov5/models/yolov5m.yaml --hyp /content/yolov5/data/hyps/hyp.scratch-med.yaml --batch 32 --epochs 10 --data /content/yolov5/data/custom_dataset.yaml --weights  /content/yolov5/runs/train/exp3/weights/best.pt --workers 24"
      ]
    },
    {
      "cell_type": "code",
      "execution_count": null,
      "metadata": {
        "id": "95rUkde_v1Jx"
      },
      "outputs": [],
      "source": [
        "!zip /content/exp4 -r /content/yolov5/runs/train/exp4"
      ]
    },
    {
      "cell_type": "code",
      "execution_count": null,
      "metadata": {
        "id": "XJ3pY2tz2gDK"
      },
      "outputs": [],
      "source": [
        "!python train.py --img 640 --cfg /content/yolov5/models/yolov5m.yaml --hyp /content/yolov5/data/hyps/hyp.scratch-med.yaml --batch 32 --epochs 10 --data /content/yolov5/data/custom_dataset.yaml --weights  /content/yolov5/runs/train/exp3/weights/best.pt --workers 24"
      ]
    },
    {
      "cell_type": "markdown",
      "metadata": {
        "id": "opTETypc79WG"
      },
      "source": [
        "# **Main**"
      ]
    },
    {
      "cell_type": "code",
      "execution_count": null,
      "metadata": {
        "id": "Px1RmCVkOaEQ"
      },
      "outputs": [],
      "source": [
        "!git clone https://github.com/ultralytics/yolov5\n",
        "%cd yolov5\n",
        "%pip install -r requirements.txt"
      ]
    },
    {
      "cell_type": "code",
      "execution_count": null,
      "metadata": {
        "id": "fGMmkwY_9hto"
      },
      "outputs": [],
      "source": [
        "!unzip /content/drive/MyDrive/Datasets/EdiDataset.zip"
      ]
    },
    {
      "cell_type": "code",
      "execution_count": null,
      "metadata": {
        "colab": {
          "base_uri": "https://localhost:8080/"
        },
        "id": "eTuuyWooO5SQ",
        "outputId": "9f1c6c9a-8077-4cda-93bc-67d171b8c8bd"
      },
      "outputs": [
        {
          "data": {
            "text/plain": [
              "0"
            ]
          },
          "execution_count": 6,
          "metadata": {},
          "output_type": "execute_result"
        }
      ],
      "source": [
        "import subprocess\n",
        "subprocess.call([\"/content/yolov5/data/scripts/download_weights.sh\"])"
      ]
    },
    {
      "cell_type": "code",
      "execution_count": null,
      "metadata": {
        "collapsed": true,
        "id": "YO14S4anqEtq"
      },
      "outputs": [],
      "source": [
        "!python train.py --img 640 --cfg /content/yolov5/models/yolov5m.yaml --hyp /content/yolov5/data/hyps/hyp.scratch-med.yaml --batch 32 --epochs 30 --data /content/yolov5/data/custom_dataset.yaml --weights /content/drive/MyDrive/FYP/exp/weights/best.pt --workers 24"
      ]
    },
    {
      "cell_type": "code",
      "execution_count": null,
      "metadata": {
        "id": "_tgZIDkqqEpw"
      },
      "outputs": [],
      "source": [
        "!zip /content/exp -r /content/yolov5/runs/train/exp"
      ]
    },
    {
      "cell_type": "code",
      "execution_count": null,
      "metadata": {
        "id": "_qBmJBlXqEmU"
      },
      "outputs": [],
      "source": [
        "!python train.py --img 640 --cfg /content/yolov5/models/yolov5m.yaml --hyp /content/yolov5/data/hyps/hyp.scratch-med.yaml --batch 32 --epochs 10 --data /content/yolov5/data/custom_dataset.yaml --weights /content/yolov5/runs/train/exp/weights/best.pt --workers 24"
      ]
    },
    {
      "cell_type": "code",
      "execution_count": null,
      "metadata": {
        "id": "GFYadKLRyie2"
      },
      "outputs": [],
      "source": [
        "!zip /content/exp -r /content/yolov5/runs/train/exp2"
      ]
    },
    {
      "cell_type": "code",
      "execution_count": null,
      "metadata": {
        "id": "BDxZR_L3z_DD"
      },
      "outputs": [],
      "source": [
        "!python train.py --img 640 --cfg /content/yolov5/models/yolov5m.yaml --hyp /content/yolov5/data/hyps/hyp.scratch-med.yaml --batch 32 --epochs 10 --data /content/yolov5/data/custom_dataset.yaml --weights /content/yolov5/runs/train/exp2/weights/best.pt --workers 24"
      ]
    },
    {
      "cell_type": "code",
      "execution_count": null,
      "metadata": {
        "id": "Ih5THQbv-soD"
      },
      "outputs": [],
      "source": [
        "!zip /content/exp3 -r /content/yolov5/runs/train/exp3"
      ]
    },
    {
      "cell_type": "code",
      "execution_count": null,
      "metadata": {
        "id": "Cr8f81TvKqm6"
      },
      "outputs": [],
      "source": [
        "!python train.py --img 640 --cfg /content/yolov5/models/yolov5m.yaml --hyp /content/yolov5/data/hyps/hyp.scratch-med.yaml --batch 32 --epochs 10 --data /content/yolov5/data/custom_dataset.yaml --weights /content/yolov5/runs/train/exp3/weights/best.pt --workers 24"
      ]
    },
    {
      "cell_type": "code",
      "execution_count": null,
      "metadata": {
        "id": "YJ3NQrcmKtzv"
      },
      "outputs": [],
      "source": [
        "!zip /content/exp4 -r /content/yolov5/runs/train/exp4"
      ]
    },
    {
      "cell_type": "markdown",
      "metadata": {
        "id": "S5v2-mZNKeUk"
      },
      "source": [
        "**After performing all the experiments, we have observed that training till experiment 3 gave us the best results i.e 30 + 10 + 10 epochs so our final model will be trained till 50 epochs. Then it is ready to be used for stray dogs detection in out PCMC area**"
      ]
    },
    {
      "cell_type": "code",
      "execution_count": null,
      "metadata": {
        "id": "L255jWF-9Qnd"
      },
      "outputs": [],
      "source": []
    }
  ],
  "metadata": {
    "accelerator": "GPU",
    "colab": {
      "provenance": [],
      "include_colab_link": true
    },
    "gpuClass": "standard",
    "kernelspec": {
      "display_name": "Python 3",
      "name": "python3"
    },
    "language_info": {
      "name": "python"
    }
  },
  "nbformat": 4,
  "nbformat_minor": 0
}